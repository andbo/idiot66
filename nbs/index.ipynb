{
 "cells": [
  {
   "cell_type": "code",
   "execution_count": null,
   "metadata": {},
   "outputs": [],
   "source": [
    "#| hide\n",
    "from idiot66.core import *"
   ]
  },
  {
   "cell_type": "markdown",
   "metadata": {},
   "source": [
    "# idiot66\n",
    "\n",
    "> Idiot66 a not so dum game"
   ]
  },
  {
   "cell_type": "markdown",
   "metadata": {},
   "source": [
    "This file will become your README and also the index of your documentation."
   ]
  },
  {
   "cell_type": "markdown",
   "metadata": {},
   "source": [
    "## Install"
   ]
  },
  {
   "cell_type": "markdown",
   "metadata": {},
   "source": [
    "```sh\n",
    "pip install idiot66\n",
    "```"
   ]
  },
  {
   "cell_type": "markdown",
   "metadata": {},
   "source": [
    "## How to use"
   ]
  },
  {
   "attachments": {},
   "cell_type": "markdown",
   "metadata": {},
   "source": [
    "Fill me in please! Don't forget code examples:\n",
    "\n",
    "Whenever you change main, a route or add a route. You will have to run `nbdev_export` so that your package is updated. \n",
    "\n",
    "> nbdev_export: Export notebooks in `path` to Python modules\n",
    "\n",
    "After running above comamand, you can start the FastAPI app with the following command from the root folder (i.e. fastapi-nbdev):\n",
    "\n",
    "> uvicorn fastapi_nbdev.main:app --reload\n",
    "\n",
    "Lastly, run `nbdev_prepare`. This is last, since you want to export and run your changes before running the tests.\n",
    "\n",
    "> nbdev_prepare: Export, test, and clean notebooks, and render README if needed\n"
   ]
  },
  {
   "cell_type": "code",
   "execution_count": null,
   "metadata": {},
   "outputs": [
    {
     "data": {
      "text/plain": [
       "2"
      ]
     },
     "execution_count": null,
     "metadata": {},
     "output_type": "execute_result"
    }
   ],
   "source": [
    "1+1"
   ]
  },
  {
   "cell_type": "code",
   "execution_count": null,
   "metadata": {},
   "outputs": [],
   "source": []
  }
 ],
 "metadata": {
  "kernelspec": {
   "display_name": "base",
   "language": "python",
   "name": "python3"
  }
 },
 "nbformat": 4,
 "nbformat_minor": 4
}
