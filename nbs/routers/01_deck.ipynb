{
 "cells": [
  {
   "cell_type": "code",
   "execution_count": null,
   "metadata": {},
   "outputs": [],
   "source": [
    "#| default_exp routers/deck"
   ]
  },
  {
   "cell_type": "code",
   "execution_count": null,
   "metadata": {},
   "outputs": [],
   "source": [
    "#| hide\n",
    "from nbdev.showdoc import *"
   ]
  },
  {
   "cell_type": "code",
   "execution_count": null,
   "metadata": {},
   "outputs": [],
   "source": [
    "#| export\n",
    "from fastapi import APIRouter"
   ]
  },
  {
   "cell_type": "code",
   "execution_count": null,
   "metadata": {},
   "outputs": [],
   "source": [
    "#| export\n",
    "router = APIRouter()"
   ]
  },
  {
   "cell_type": "code",
   "execution_count": null,
   "metadata": {},
   "outputs": [],
   "source": [
    "#| export\n",
    "from typing import List, Literal\n",
    "from pydantic import BaseModel \n",
    "import random\n",
    "\n",
    "RANKS = '5 9 J Q K A'.split()\n",
    "SUITS = '♣ ♢ ♡ ♠'.split()\n",
    "values = {'5': 10, '9': 0, 'J': 2, 'Q': 3, 'K': 4, 'A': 11}\n",
    "\n",
    "class PlayingCard(BaseModel):\n",
    "    rank: Literal['9', 'J', 'Q', 'K', '5', 'A']\n",
    "    suit: Literal['♣', '♢', '♡', '♠']\n",
    "    value: int\n",
    "\n",
    "    @property\n",
    "    def value(self):\n",
    "        return values[self.rank]\n",
    "\n",
    "    def __repr__(self):\n",
    "        return f'{self.suit}{self.rank}'\n",
    "\n",
    "    def __lt__(self, other):\n",
    "        return self.value < other.value\n",
    "\n",
    "class Deck:\n",
    "    def __init__(self, cards: List[PlayingCard]):\n",
    "        self.cards = cards\n",
    "        random.shuffle(self.cards)\n",
    "        self.is_shuffled = True\n",
    "        self._played_cards = []\n",
    "        self._starting_cards = self.cards.copy()\n",
    "\n",
    "    def __repr__(self):\n",
    "        return ' '.join(str(c) for c in self.cards)\n",
    "\n",
    "    def draw_cards(self, n: int):\n",
    "        return [self.draw_card() for _ in range(n)]\n",
    "\n",
    "    def draw_card(self):\n",
    "        if len(self.cards) == 0:\n",
    "            return None\n",
    "        else:\n",
    "            played_card = self.cards.pop()\n",
    "            self._played_cards.append(played_card)\n",
    "            return played_card\n",
    "\n",
    "class Hand(BaseModel):\n",
    "    cards: List[PlayingCard]\n",
    "\n",
    "    def add_card(self, card: PlayingCard):\n",
    "        self.cards.append(card)\n",
    "\n",
    "    def remove_card(self, card: PlayingCard):\n",
    "        self.cards.remove(card)\n",
    "\n",
    "    def sort_cards(self):\n",
    "        self.cards.sort()\n",
    "\n",
    "    def __str__(self):\n",
    "        return ' '.join(str(c) for c in self.cards)\n",
    "\n",
    "\n",
    "def make_idiot_deck():\n",
    "    return [PlayingCard(rank=r, suit=s) for s in SUITS for r in RANKS]\n",
    "\n",
    "deck = Deck(cards=sorted(make_idiot_deck()))"
   ]
  },
  {
   "cell_type": "code",
   "execution_count": null,
   "metadata": {},
   "outputs": [],
   "source": [
    "#| export\n",
    "@router.get('/hand')\n",
    "async def gethand() -> Hand:\n",
    "    hand = Hand(cards=deck.draw_cards(5))\n",
    "    return hand"
   ]
  },
  {
   "cell_type": "code",
   "execution_count": null,
   "metadata": {},
   "outputs": [],
   "source": [
    "#| export\n",
    "@router.get('/deck')\n",
    "async def aroute():\n",
    "    return {\"message\": \"Welcome in aroute within deck!\"}"
   ]
  },
  {
   "cell_type": "code",
   "execution_count": null,
   "metadata": {},
   "outputs": [],
   "source": [
    "#| hide\n",
    "import nbdev; nbdev.nbdev_export()"
   ]
  }
 ],
 "metadata": {
  "kernelspec": {
   "display_name": "python3",
   "language": "python",
   "name": "python3"
  }
 },
 "nbformat": 4,
 "nbformat_minor": 2
}
